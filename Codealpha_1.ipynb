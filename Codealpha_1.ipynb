{
  "nbformat": 4,
  "nbformat_minor": 0,
  "metadata": {
    "colab": {
      "provenance": []
    },
    "kernelspec": {
      "name": "python3",
      "display_name": "Python 3"
    },
    "language_info": {
      "name": "python"
    }
  },
  "cells": [
    {
      "cell_type": "markdown",
      "source": [
        "# Roya Afshar"
      ],
      "metadata": {
        "id": "Siu2kTsKxk6h"
      }
    },
    {
      "cell_type": "markdown",
      "source": [
        "# Credit Scoring Model\n",
        "Develop a credit scoring model to predict the\n",
        "creditworthiness of individuals based on historical\n",
        "financial data. Utilize classification algorithms and\n",
        "assess the model's accuracy."
      ],
      "metadata": {
        "id": "Nc-CL--Das2G"
      }
    },
    {
      "cell_type": "code",
      "source": [
        "import pandas as pd"
      ],
      "metadata": {
        "id": "1ZW8NKjLEGWq"
      },
      "execution_count": 28,
      "outputs": []
    },
    {
      "cell_type": "code",
      "execution_count": 29,
      "metadata": {
        "id": "3sqhevzuDDY9"
      },
      "outputs": [],
      "source": [
        "path='/content/train (1).xlsx'\n",
        "xl = pd.ExcelFile(path)\n",
        "df = xl.parse(0)"
      ]
    },
    {
      "cell_type": "code",
      "source": [
        "df.head()"
      ],
      "metadata": {
        "colab": {
          "base_uri": "https://localhost:8080/",
          "height": 429
        },
        "id": "Jph7ZombEHh4",
        "outputId": "8cd1832e-8508-4463-9bda-fb4378d9447c"
      },
      "execution_count": 4,
      "outputs": [
        {
          "output_type": "execute_result",
          "data": {
            "text/plain": [
              "       ID Customer_ID     Month           Name   Age          SSN Occupation  \\\n",
              "0  0x1602   CUS_0xd40   January  Aaron Maashoh    23  821-00-0265  Scientist   \n",
              "1  0x1603   CUS_0xd40  February  Aaron Maashoh    23  821-00-0265  Scientist   \n",
              "2  0x1604   CUS_0xd40     March  Aaron Maashoh  -500  821-00-0265  Scientist   \n",
              "3  0x1605   CUS_0xd40     April  Aaron Maashoh    23  821-00-0265  Scientist   \n",
              "4  0x1606   CUS_0xd40       May  Aaron Maashoh    23  821-00-0265  Scientist   \n",
              "\n",
              "  Annual_Income  Monthly_Inhand_Salary  Num_Bank_Accounts  ...  Credit_Mix  \\\n",
              "0      19114.12            1824.843333                  3  ...           _   \n",
              "1      19114.12                    NaN                  3  ...        Good   \n",
              "2      19114.12                    NaN                  3  ...        Good   \n",
              "3      19114.12                    NaN                  3  ...        Good   \n",
              "4      19114.12            1824.843333                  3  ...        Good   \n",
              "\n",
              "   Outstanding_Debt Credit_Utilization_Ratio     Credit_History_Age  \\\n",
              "0            809.98                26.822620  22 Years and 1 Months   \n",
              "1            809.98                31.944960                    NaN   \n",
              "2            809.98                28.609352  22 Years and 3 Months   \n",
              "3            809.98                31.377862  22 Years and 4 Months   \n",
              "4            809.98                24.797347  22 Years and 5 Months   \n",
              "\n",
              "   Payment_of_Min_Amount Total_EMI_per_month Amount_invested_monthly  \\\n",
              "0                     No           49.574949               80.415295   \n",
              "1                     No           49.574949              118.280222   \n",
              "2                     No           49.574949               81.699521   \n",
              "3                     No           49.574949              199.458074   \n",
              "4                     No           49.574949               41.420153   \n",
              "\n",
              "                  Payment_Behaviour Monthly_Balance Credit_Score  \n",
              "0   High_spent_Small_value_payments      312.494089         Good  \n",
              "1    Low_spent_Large_value_payments      284.629162         Good  \n",
              "2   Low_spent_Medium_value_payments      331.209863         Good  \n",
              "3    Low_spent_Small_value_payments       223.45131         Good  \n",
              "4  High_spent_Medium_value_payments      341.489231         Good  \n",
              "\n",
              "[5 rows x 28 columns]"
            ],
            "text/html": [
              "\n",
              "  <div id=\"df-c50d4d2e-f3ca-43f7-b32e-6b731fe05a4c\" class=\"colab-df-container\">\n",
              "    <div>\n",
              "<style scoped>\n",
              "    .dataframe tbody tr th:only-of-type {\n",
              "        vertical-align: middle;\n",
              "    }\n",
              "\n",
              "    .dataframe tbody tr th {\n",
              "        vertical-align: top;\n",
              "    }\n",
              "\n",
              "    .dataframe thead th {\n",
              "        text-align: right;\n",
              "    }\n",
              "</style>\n",
              "<table border=\"1\" class=\"dataframe\">\n",
              "  <thead>\n",
              "    <tr style=\"text-align: right;\">\n",
              "      <th></th>\n",
              "      <th>ID</th>\n",
              "      <th>Customer_ID</th>\n",
              "      <th>Month</th>\n",
              "      <th>Name</th>\n",
              "      <th>Age</th>\n",
              "      <th>SSN</th>\n",
              "      <th>Occupation</th>\n",
              "      <th>Annual_Income</th>\n",
              "      <th>Monthly_Inhand_Salary</th>\n",
              "      <th>Num_Bank_Accounts</th>\n",
              "      <th>...</th>\n",
              "      <th>Credit_Mix</th>\n",
              "      <th>Outstanding_Debt</th>\n",
              "      <th>Credit_Utilization_Ratio</th>\n",
              "      <th>Credit_History_Age</th>\n",
              "      <th>Payment_of_Min_Amount</th>\n",
              "      <th>Total_EMI_per_month</th>\n",
              "      <th>Amount_invested_monthly</th>\n",
              "      <th>Payment_Behaviour</th>\n",
              "      <th>Monthly_Balance</th>\n",
              "      <th>Credit_Score</th>\n",
              "    </tr>\n",
              "  </thead>\n",
              "  <tbody>\n",
              "    <tr>\n",
              "      <th>0</th>\n",
              "      <td>0x1602</td>\n",
              "      <td>CUS_0xd40</td>\n",
              "      <td>January</td>\n",
              "      <td>Aaron Maashoh</td>\n",
              "      <td>23</td>\n",
              "      <td>821-00-0265</td>\n",
              "      <td>Scientist</td>\n",
              "      <td>19114.12</td>\n",
              "      <td>1824.843333</td>\n",
              "      <td>3</td>\n",
              "      <td>...</td>\n",
              "      <td>_</td>\n",
              "      <td>809.98</td>\n",
              "      <td>26.822620</td>\n",
              "      <td>22 Years and 1 Months</td>\n",
              "      <td>No</td>\n",
              "      <td>49.574949</td>\n",
              "      <td>80.415295</td>\n",
              "      <td>High_spent_Small_value_payments</td>\n",
              "      <td>312.494089</td>\n",
              "      <td>Good</td>\n",
              "    </tr>\n",
              "    <tr>\n",
              "      <th>1</th>\n",
              "      <td>0x1603</td>\n",
              "      <td>CUS_0xd40</td>\n",
              "      <td>February</td>\n",
              "      <td>Aaron Maashoh</td>\n",
              "      <td>23</td>\n",
              "      <td>821-00-0265</td>\n",
              "      <td>Scientist</td>\n",
              "      <td>19114.12</td>\n",
              "      <td>NaN</td>\n",
              "      <td>3</td>\n",
              "      <td>...</td>\n",
              "      <td>Good</td>\n",
              "      <td>809.98</td>\n",
              "      <td>31.944960</td>\n",
              "      <td>NaN</td>\n",
              "      <td>No</td>\n",
              "      <td>49.574949</td>\n",
              "      <td>118.280222</td>\n",
              "      <td>Low_spent_Large_value_payments</td>\n",
              "      <td>284.629162</td>\n",
              "      <td>Good</td>\n",
              "    </tr>\n",
              "    <tr>\n",
              "      <th>2</th>\n",
              "      <td>0x1604</td>\n",
              "      <td>CUS_0xd40</td>\n",
              "      <td>March</td>\n",
              "      <td>Aaron Maashoh</td>\n",
              "      <td>-500</td>\n",
              "      <td>821-00-0265</td>\n",
              "      <td>Scientist</td>\n",
              "      <td>19114.12</td>\n",
              "      <td>NaN</td>\n",
              "      <td>3</td>\n",
              "      <td>...</td>\n",
              "      <td>Good</td>\n",
              "      <td>809.98</td>\n",
              "      <td>28.609352</td>\n",
              "      <td>22 Years and 3 Months</td>\n",
              "      <td>No</td>\n",
              "      <td>49.574949</td>\n",
              "      <td>81.699521</td>\n",
              "      <td>Low_spent_Medium_value_payments</td>\n",
              "      <td>331.209863</td>\n",
              "      <td>Good</td>\n",
              "    </tr>\n",
              "    <tr>\n",
              "      <th>3</th>\n",
              "      <td>0x1605</td>\n",
              "      <td>CUS_0xd40</td>\n",
              "      <td>April</td>\n",
              "      <td>Aaron Maashoh</td>\n",
              "      <td>23</td>\n",
              "      <td>821-00-0265</td>\n",
              "      <td>Scientist</td>\n",
              "      <td>19114.12</td>\n",
              "      <td>NaN</td>\n",
              "      <td>3</td>\n",
              "      <td>...</td>\n",
              "      <td>Good</td>\n",
              "      <td>809.98</td>\n",
              "      <td>31.377862</td>\n",
              "      <td>22 Years and 4 Months</td>\n",
              "      <td>No</td>\n",
              "      <td>49.574949</td>\n",
              "      <td>199.458074</td>\n",
              "      <td>Low_spent_Small_value_payments</td>\n",
              "      <td>223.45131</td>\n",
              "      <td>Good</td>\n",
              "    </tr>\n",
              "    <tr>\n",
              "      <th>4</th>\n",
              "      <td>0x1606</td>\n",
              "      <td>CUS_0xd40</td>\n",
              "      <td>May</td>\n",
              "      <td>Aaron Maashoh</td>\n",
              "      <td>23</td>\n",
              "      <td>821-00-0265</td>\n",
              "      <td>Scientist</td>\n",
              "      <td>19114.12</td>\n",
              "      <td>1824.843333</td>\n",
              "      <td>3</td>\n",
              "      <td>...</td>\n",
              "      <td>Good</td>\n",
              "      <td>809.98</td>\n",
              "      <td>24.797347</td>\n",
              "      <td>22 Years and 5 Months</td>\n",
              "      <td>No</td>\n",
              "      <td>49.574949</td>\n",
              "      <td>41.420153</td>\n",
              "      <td>High_spent_Medium_value_payments</td>\n",
              "      <td>341.489231</td>\n",
              "      <td>Good</td>\n",
              "    </tr>\n",
              "  </tbody>\n",
              "</table>\n",
              "<p>5 rows × 28 columns</p>\n",
              "</div>\n",
              "    <div class=\"colab-df-buttons\">\n",
              "\n",
              "  <div class=\"colab-df-container\">\n",
              "    <button class=\"colab-df-convert\" onclick=\"convertToInteractive('df-c50d4d2e-f3ca-43f7-b32e-6b731fe05a4c')\"\n",
              "            title=\"Convert this dataframe to an interactive table.\"\n",
              "            style=\"display:none;\">\n",
              "\n",
              "  <svg xmlns=\"http://www.w3.org/2000/svg\" height=\"24px\" viewBox=\"0 -960 960 960\">\n",
              "    <path d=\"M120-120v-720h720v720H120Zm60-500h600v-160H180v160Zm220 220h160v-160H400v160Zm0 220h160v-160H400v160ZM180-400h160v-160H180v160Zm440 0h160v-160H620v160ZM180-180h160v-160H180v160Zm440 0h160v-160H620v160Z\"/>\n",
              "  </svg>\n",
              "    </button>\n",
              "\n",
              "  <style>\n",
              "    .colab-df-container {\n",
              "      display:flex;\n",
              "      gap: 12px;\n",
              "    }\n",
              "\n",
              "    .colab-df-convert {\n",
              "      background-color: #E8F0FE;\n",
              "      border: none;\n",
              "      border-radius: 50%;\n",
              "      cursor: pointer;\n",
              "      display: none;\n",
              "      fill: #1967D2;\n",
              "      height: 32px;\n",
              "      padding: 0 0 0 0;\n",
              "      width: 32px;\n",
              "    }\n",
              "\n",
              "    .colab-df-convert:hover {\n",
              "      background-color: #E2EBFA;\n",
              "      box-shadow: 0px 1px 2px rgba(60, 64, 67, 0.3), 0px 1px 3px 1px rgba(60, 64, 67, 0.15);\n",
              "      fill: #174EA6;\n",
              "    }\n",
              "\n",
              "    .colab-df-buttons div {\n",
              "      margin-bottom: 4px;\n",
              "    }\n",
              "\n",
              "    [theme=dark] .colab-df-convert {\n",
              "      background-color: #3B4455;\n",
              "      fill: #D2E3FC;\n",
              "    }\n",
              "\n",
              "    [theme=dark] .colab-df-convert:hover {\n",
              "      background-color: #434B5C;\n",
              "      box-shadow: 0px 1px 3px 1px rgba(0, 0, 0, 0.15);\n",
              "      filter: drop-shadow(0px 1px 2px rgba(0, 0, 0, 0.3));\n",
              "      fill: #FFFFFF;\n",
              "    }\n",
              "  </style>\n",
              "\n",
              "    <script>\n",
              "      const buttonEl =\n",
              "        document.querySelector('#df-c50d4d2e-f3ca-43f7-b32e-6b731fe05a4c button.colab-df-convert');\n",
              "      buttonEl.style.display =\n",
              "        google.colab.kernel.accessAllowed ? 'block' : 'none';\n",
              "\n",
              "      async function convertToInteractive(key) {\n",
              "        const element = document.querySelector('#df-c50d4d2e-f3ca-43f7-b32e-6b731fe05a4c');\n",
              "        const dataTable =\n",
              "          await google.colab.kernel.invokeFunction('convertToInteractive',\n",
              "                                                    [key], {});\n",
              "        if (!dataTable) return;\n",
              "\n",
              "        const docLinkHtml = 'Like what you see? Visit the ' +\n",
              "          '<a target=\"_blank\" href=https://colab.research.google.com/notebooks/data_table.ipynb>data table notebook</a>'\n",
              "          + ' to learn more about interactive tables.';\n",
              "        element.innerHTML = '';\n",
              "        dataTable['output_type'] = 'display_data';\n",
              "        await google.colab.output.renderOutput(dataTable, element);\n",
              "        const docLink = document.createElement('div');\n",
              "        docLink.innerHTML = docLinkHtml;\n",
              "        element.appendChild(docLink);\n",
              "      }\n",
              "    </script>\n",
              "  </div>\n",
              "\n",
              "\n",
              "<div id=\"df-5a2bdb69-c5b4-4fc5-8d27-a7af7d0d0b1e\">\n",
              "  <button class=\"colab-df-quickchart\" onclick=\"quickchart('df-5a2bdb69-c5b4-4fc5-8d27-a7af7d0d0b1e')\"\n",
              "            title=\"Suggest charts\"\n",
              "            style=\"display:none;\">\n",
              "\n",
              "<svg xmlns=\"http://www.w3.org/2000/svg\" height=\"24px\"viewBox=\"0 0 24 24\"\n",
              "     width=\"24px\">\n",
              "    <g>\n",
              "        <path d=\"M19 3H5c-1.1 0-2 .9-2 2v14c0 1.1.9 2 2 2h14c1.1 0 2-.9 2-2V5c0-1.1-.9-2-2-2zM9 17H7v-7h2v7zm4 0h-2V7h2v10zm4 0h-2v-4h2v4z\"/>\n",
              "    </g>\n",
              "</svg>\n",
              "  </button>\n",
              "\n",
              "<style>\n",
              "  .colab-df-quickchart {\n",
              "      --bg-color: #E8F0FE;\n",
              "      --fill-color: #1967D2;\n",
              "      --hover-bg-color: #E2EBFA;\n",
              "      --hover-fill-color: #174EA6;\n",
              "      --disabled-fill-color: #AAA;\n",
              "      --disabled-bg-color: #DDD;\n",
              "  }\n",
              "\n",
              "  [theme=dark] .colab-df-quickchart {\n",
              "      --bg-color: #3B4455;\n",
              "      --fill-color: #D2E3FC;\n",
              "      --hover-bg-color: #434B5C;\n",
              "      --hover-fill-color: #FFFFFF;\n",
              "      --disabled-bg-color: #3B4455;\n",
              "      --disabled-fill-color: #666;\n",
              "  }\n",
              "\n",
              "  .colab-df-quickchart {\n",
              "    background-color: var(--bg-color);\n",
              "    border: none;\n",
              "    border-radius: 50%;\n",
              "    cursor: pointer;\n",
              "    display: none;\n",
              "    fill: var(--fill-color);\n",
              "    height: 32px;\n",
              "    padding: 0;\n",
              "    width: 32px;\n",
              "  }\n",
              "\n",
              "  .colab-df-quickchart:hover {\n",
              "    background-color: var(--hover-bg-color);\n",
              "    box-shadow: 0 1px 2px rgba(60, 64, 67, 0.3), 0 1px 3px 1px rgba(60, 64, 67, 0.15);\n",
              "    fill: var(--button-hover-fill-color);\n",
              "  }\n",
              "\n",
              "  .colab-df-quickchart-complete:disabled,\n",
              "  .colab-df-quickchart-complete:disabled:hover {\n",
              "    background-color: var(--disabled-bg-color);\n",
              "    fill: var(--disabled-fill-color);\n",
              "    box-shadow: none;\n",
              "  }\n",
              "\n",
              "  .colab-df-spinner {\n",
              "    border: 2px solid var(--fill-color);\n",
              "    border-color: transparent;\n",
              "    border-bottom-color: var(--fill-color);\n",
              "    animation:\n",
              "      spin 1s steps(1) infinite;\n",
              "  }\n",
              "\n",
              "  @keyframes spin {\n",
              "    0% {\n",
              "      border-color: transparent;\n",
              "      border-bottom-color: var(--fill-color);\n",
              "      border-left-color: var(--fill-color);\n",
              "    }\n",
              "    20% {\n",
              "      border-color: transparent;\n",
              "      border-left-color: var(--fill-color);\n",
              "      border-top-color: var(--fill-color);\n",
              "    }\n",
              "    30% {\n",
              "      border-color: transparent;\n",
              "      border-left-color: var(--fill-color);\n",
              "      border-top-color: var(--fill-color);\n",
              "      border-right-color: var(--fill-color);\n",
              "    }\n",
              "    40% {\n",
              "      border-color: transparent;\n",
              "      border-right-color: var(--fill-color);\n",
              "      border-top-color: var(--fill-color);\n",
              "    }\n",
              "    60% {\n",
              "      border-color: transparent;\n",
              "      border-right-color: var(--fill-color);\n",
              "    }\n",
              "    80% {\n",
              "      border-color: transparent;\n",
              "      border-right-color: var(--fill-color);\n",
              "      border-bottom-color: var(--fill-color);\n",
              "    }\n",
              "    90% {\n",
              "      border-color: transparent;\n",
              "      border-bottom-color: var(--fill-color);\n",
              "    }\n",
              "  }\n",
              "</style>\n",
              "\n",
              "  <script>\n",
              "    async function quickchart(key) {\n",
              "      const quickchartButtonEl =\n",
              "        document.querySelector('#' + key + ' button');\n",
              "      quickchartButtonEl.disabled = true;  // To prevent multiple clicks.\n",
              "      quickchartButtonEl.classList.add('colab-df-spinner');\n",
              "      try {\n",
              "        const charts = await google.colab.kernel.invokeFunction(\n",
              "            'suggestCharts', [key], {});\n",
              "      } catch (error) {\n",
              "        console.error('Error during call to suggestCharts:', error);\n",
              "      }\n",
              "      quickchartButtonEl.classList.remove('colab-df-spinner');\n",
              "      quickchartButtonEl.classList.add('colab-df-quickchart-complete');\n",
              "    }\n",
              "    (() => {\n",
              "      let quickchartButtonEl =\n",
              "        document.querySelector('#df-5a2bdb69-c5b4-4fc5-8d27-a7af7d0d0b1e button');\n",
              "      quickchartButtonEl.style.display =\n",
              "        google.colab.kernel.accessAllowed ? 'block' : 'none';\n",
              "    })();\n",
              "  </script>\n",
              "</div>\n",
              "\n",
              "    </div>\n",
              "  </div>\n"
            ],
            "application/vnd.google.colaboratory.intrinsic+json": {
              "type": "dataframe",
              "variable_name": "df"
            }
          },
          "metadata": {},
          "execution_count": 4
        }
      ]
    },
    {
      "cell_type": "code",
      "source": [
        "# Select only numeric columns for correlation\n",
        "import seaborn as sns\n",
        "import matplotlib.pyplot as plt\n",
        "\n",
        "numeric_df = df.select_dtypes(include=[np.number])\n",
        "correlation_matrix = numeric_df.corr()\n",
        "plt.figure(figsize=(10, 8))\n",
        "sns.heatmap(correlation_matrix, annot=True, cmap='coolwarm')\n",
        "plt.title('Correlation Heatmap')\n",
        "plt.show()"
      ],
      "metadata": {
        "colab": {
          "base_uri": "https://localhost:8080/",
          "height": 846
        },
        "id": "Gzz7MLftQWyR",
        "outputId": "adca0d94-d4b0-4783-cbce-746c847e8bf7"
      },
      "execution_count": 46,
      "outputs": [
        {
          "output_type": "display_data",
          "data": {
            "text/plain": [
              "<Figure size 1000x800 with 2 Axes>"
            ],
            "image/png": "[encoded data removed]"
          },
          "metadata": {}
        }
      ]
    },
    {
      "cell_type": "code",
      "source": [
        "Y=df['Credit_Score']\n",
        "df['Credit_Score'].unique()"
      ],
      "metadata": {
        "colab": {
          "base_uri": "https://localhost:8080/"
        },
        "id": "IAk4sqEOIPgI",
        "outputId": "4fe0e0b6-b475-417a-9fb0-d9c6132b3cd4"
      },
      "execution_count": 15,
      "outputs": [
        {
          "output_type": "execute_result",
          "data": {
            "text/plain": [
              "array(['Good', 'Standard', 'Poor'], dtype=object)"
            ]
          },
          "metadata": {},
          "execution_count": 15
        }
      ]
    },
    {
      "cell_type": "code",
      "source": [
        "df.info()"
      ],
      "metadata": {
        "colab": {
          "base_uri": "https://localhost:8080/"
        },
        "id": "9_aIMQMHFVoY",
        "outputId": "ec3c253c-6d52-456f-a4e0-9f53b144cc1e"
      },
      "execution_count": 16,
      "outputs": [
        {
          "output_type": "stream",
          "name": "stdout",
          "text": [
            "<class 'pandas.core.frame.DataFrame'>\n",
            "RangeIndex: 100000 entries, 0 to 99999\n",
            "Data columns (total 28 columns):\n",
            " #   Column                    Non-Null Count   Dtype  \n",
            "---  ------                    --------------   -----  \n",
            " 0   ID                        100000 non-null  object \n",
            " 1   Customer_ID               100000 non-null  object \n",
            " 2   Month                     100000 non-null  object \n",
            " 3   Name                      90015 non-null   object \n",
            " 4   Age                       100000 non-null  object \n",
            " 5   SSN                       100000 non-null  object \n",
            " 6   Occupation                100000 non-null  object \n",
            " 7   Annual_Income             100000 non-null  object \n",
            " 8   Monthly_Inhand_Salary     84998 non-null   float64\n",
            " 9   Num_Bank_Accounts         100000 non-null  int64  \n",
            " 10  Num_Credit_Card           100000 non-null  int64  \n",
            " 11  Interest_Rate             100000 non-null  int64  \n",
            " 12  Num_of_Loan               100000 non-null  object \n",
            " 13  Type_of_Loan              88592 non-null   object \n",
            " 14  Delay_from_due_date       100000 non-null  int64  \n",
            " 15  Num_of_Delayed_Payment    92998 non-null   object \n",
            " 16  Changed_Credit_Limit      100000 non-null  object \n",
            " 17  Num_Credit_Inquiries      98035 non-null   float64\n",
            " 18  Credit_Mix                100000 non-null  object \n",
            " 19  Outstanding_Debt          100000 non-null  object \n",
            " 20  Credit_Utilization_Ratio  100000 non-null  float64\n",
            " 21  Credit_History_Age        90970 non-null   object \n",
            " 22  Payment_of_Min_Amount     100000 non-null  object \n",
            " 23  Total_EMI_per_month       100000 non-null  float64\n",
            " 24  Amount_invested_monthly   95521 non-null   object \n",
            " 25  Payment_Behaviour         100000 non-null  object \n",
            " 26  Monthly_Balance           98800 non-null   object \n",
            " 27  Credit_Score              100000 non-null  object \n",
            "dtypes: float64(4), int64(4), object(20)\n",
            "memory usage: 21.4+ MB\n"
          ]
        }
      ]
    },
    {
      "cell_type": "code",
      "source": [
        "df.describe()"
      ],
      "metadata": {
        "colab": {
          "base_uri": "https://localhost:8080/",
          "height": 320
        },
        "id": "fhFxwUtSFdXT",
        "outputId": "fac6456c-b28b-4fb5-f4a0-4f8bf00c98aa"
      },
      "execution_count": 6,
      "outputs": [
        {
          "output_type": "execute_result",
          "data": {
            "text/plain": [
              "       Monthly_Inhand_Salary  Num_Bank_Accounts  Num_Credit_Card  \\\n",
              "count           84998.000000      100000.000000     100000.00000   \n",
              "mean             4194.170850          17.091280         22.47443   \n",
              "std              3183.686167         117.404834        129.05741   \n",
              "min               303.645417          -1.000000          0.00000   \n",
              "25%              1625.568229           3.000000          4.00000   \n",
              "50%              3093.745000           6.000000          5.00000   \n",
              "75%              5957.448333           7.000000          7.00000   \n",
              "max             15204.633333        1798.000000       1499.00000   \n",
              "\n",
              "       Interest_Rate  Delay_from_due_date  Num_Credit_Inquiries  \\\n",
              "count  100000.000000        100000.000000          98035.000000   \n",
              "mean       72.466040            21.068780             27.754251   \n",
              "std       466.422621            14.860104            193.177339   \n",
              "min         1.000000            -5.000000              0.000000   \n",
              "25%         8.000000            10.000000              3.000000   \n",
              "50%        13.000000            18.000000              6.000000   \n",
              "75%        20.000000            28.000000              9.000000   \n",
              "max      5797.000000            67.000000           2597.000000   \n",
              "\n",
              "       Credit_Utilization_Ratio  Total_EMI_per_month  \n",
              "count             100000.000000        100000.000000  \n",
              "mean                  32.285173          1403.118217  \n",
              "std                    5.116875          8306.041270  \n",
              "min                   20.000000             0.000000  \n",
              "25%                   28.052567            30.306660  \n",
              "50%                   32.305784            69.249473  \n",
              "75%                   36.496663           161.224249  \n",
              "max                   50.000000         82331.000000  "
            ],
            "text/html": [
              "\n",
              "  <div id=\"df-09b32d25-3117-41a1-994d-84d64f7269f6\" class=\"colab-df-container\">\n",
              "    <div>\n",
              "<style scoped>\n",
              "    .dataframe tbody tr th:only-of-type {\n",
              "        vertical-align: middle;\n",
              "    }\n",
              "\n",
              "    .dataframe tbody tr th {\n",
              "        vertical-align: top;\n",
              "    }\n",
              "\n",
              "    .dataframe thead th {\n",
              "        text-align: right;\n",
              "    }\n",
              "</style>\n",
              "<table border=\"1\" class=\"dataframe\">\n",
              "  <thead>\n",
              "    <tr style=\"text-align: right;\">\n",
              "      <th></th>\n",
              "      <th>Monthly_Inhand_Salary</th>\n",
              "      <th>Num_Bank_Accounts</th>\n",
              "      <th>Num_Credit_Card</th>\n",
              "      <th>Interest_Rate</th>\n",
              "      <th>Delay_from_due_date</th>\n",
              "      <th>Num_Credit_Inquiries</th>\n",
              "      <th>Credit_Utilization_Ratio</th>\n",
              "      <th>Total_EMI_per_month</th>\n",
              "    </tr>\n",
              "  </thead>\n",
              "  <tbody>\n",
              "    <tr>\n",
              "      <th>count</th>\n",
              "      <td>84998.000000</td>\n",
              "      <td>100000.000000</td>\n",
              "      <td>100000.00000</td>\n",
              "      <td>100000.000000</td>\n",
              "      <td>100000.000000</td>\n",
              "      <td>98035.000000</td>\n",
              "      <td>100000.000000</td>\n",
              "      <td>100000.000000</td>\n",
              "    </tr>\n",
              "    <tr>\n",
              "      <th>mean</th>\n",
              "      <td>4194.170850</td>\n",
              "      <td>17.091280</td>\n",
              "      <td>22.47443</td>\n",
              "      <td>72.466040</td>\n",
              "      <td>21.068780</td>\n",
              "      <td>27.754251</td>\n",
              "      <td>32.285173</td>\n",
              "      <td>1403.118217</td>\n",
              "    </tr>\n",
              "    <tr>\n",
              "      <th>std</th>\n",
              "      <td>3183.686167</td>\n",
              "      <td>117.404834</td>\n",
              "      <td>129.05741</td>\n",
              "      <td>466.422621</td>\n",
              "      <td>14.860104</td>\n",
              "      <td>193.177339</td>\n",
              "      <td>5.116875</td>\n",
              "      <td>8306.041270</td>\n",
              "    </tr>\n",
              "    <tr>\n",
              "      <th>min</th>\n",
              "      <td>303.645417</td>\n",
              "      <td>-1.000000</td>\n",
              "      <td>0.00000</td>\n",
              "      <td>1.000000</td>\n",
              "      <td>-5.000000</td>\n",
              "      <td>0.000000</td>\n",
              "      <td>20.000000</td>\n",
              "      <td>0.000000</td>\n",
              "    </tr>\n",
              "    <tr>\n",
              "      <th>25%</th>\n",
              "      <td>1625.568229</td>\n",
              "      <td>3.000000</td>\n",
              "      <td>4.00000</td>\n",
              "      <td>8.000000</td>\n",
              "      <td>10.000000</td>\n",
              "      <td>3.000000</td>\n",
              "      <td>28.052567</td>\n",
              "      <td>30.306660</td>\n",
              "    </tr>\n",
              "    <tr>\n",
              "      <th>50%</th>\n",
              "      <td>3093.745000</td>\n",
              "      <td>6.000000</td>\n",
              "      <td>5.00000</td>\n",
              "      <td>13.000000</td>\n",
              "      <td>18.000000</td>\n",
              "      <td>6.000000</td>\n",
              "      <td>32.305784</td>\n",
              "      <td>69.249473</td>\n",
              "    </tr>\n",
              "    <tr>\n",
              "      <th>75%</th>\n",
              "      <td>5957.448333</td>\n",
              "      <td>7.000000</td>\n",
              "      <td>7.00000</td>\n",
              "      <td>20.000000</td>\n",
              "      <td>28.000000</td>\n",
              "      <td>9.000000</td>\n",
              "      <td>36.496663</td>\n",
              "      <td>161.224249</td>\n",
              "    </tr>\n",
              "    <tr>\n",
              "      <th>max</th>\n",
              "      <td>15204.633333</td>\n",
              "      <td>1798.000000</td>\n",
              "      <td>1499.00000</td>\n",
              "      <td>5797.000000</td>\n",
              "      <td>67.000000</td>\n",
              "      <td>2597.000000</td>\n",
              "      <td>50.000000</td>\n",
              "      <td>82331.000000</td>\n",
              "    </tr>\n",
              "  </tbody>\n",
              "</table>\n",
              "</div>\n",
              "    <div class=\"colab-df-buttons\">\n",
              "\n",
              "  <div class=\"colab-df-container\">\n",
              "    <button class=\"colab-df-convert\" onclick=\"convertToInteractive('df-09b32d25-3117-41a1-994d-84d64f7269f6')\"\n",
              "            title=\"Convert this dataframe to an interactive table.\"\n",
              "            style=\"display:none;\">\n",
              "\n",
              "  <svg xmlns=\"http://www.w3.org/2000/svg\" height=\"24px\" viewBox=\"0 -960 960 960\">\n",
              "    <path d=\"M120-120v-720h720v720H120Zm60-500h600v-160H180v160Zm220 220h160v-160H400v160Zm0 220h160v-160H400v160ZM180-400h160v-160H180v160Zm440 0h160v-160H620v160ZM180-180h160v-160H180v160Zm440 0h160v-160H620v160Z\"/>\n",
              "  </svg>\n",
              "    </button>\n",
              "\n",
              "  <style>\n",
              "    .colab-df-container {\n",
              "      display:flex;\n",
              "      gap: 12px;\n",
              "    }\n",
              "\n",
              "    .colab-df-convert {\n",
              "      background-color: #E8F0FE;\n",
              "      border: none;\n",
              "      border-radius: 50%;\n",
              "      cursor: pointer;\n",
              "      display: none;\n",
              "      fill: #1967D2;\n",
              "      height: 32px;\n",
              "      padding: 0 0 0 0;\n",
              "      width: 32px;\n",
              "    }\n",
              "\n",
              "    .colab-df-convert:hover {\n",
              "      background-color: #E2EBFA;\n",
              "      box-shadow: 0px 1px 2px rgba(60, 64, 67, 0.3), 0px 1px 3px 1px rgba(60, 64, 67, 0.15);\n",
              "      fill: #174EA6;\n",
              "    }\n",
              "\n",
              "    .colab-df-buttons div {\n",
              "      margin-bottom: 4px;\n",
              "    }\n",
              "\n",
              "    [theme=dark] .colab-df-convert {\n",
              "      background-color: #3B4455;\n",
              "      fill: #D2E3FC;\n",
              "    }\n",
              "\n",
              "    [theme=dark] .colab-df-convert:hover {\n",
              "      background-color: #434B5C;\n",
              "      box-shadow: 0px 1px 3px 1px rgba(0, 0, 0, 0.15);\n",
              "      filter: drop-shadow(0px 1px 2px rgba(0, 0, 0, 0.3));\n",
              "      fill: #FFFFFF;\n",
              "    }\n",
              "  </style>\n",
              "\n",
              "    <script>\n",
              "      const buttonEl =\n",
              "        document.querySelector('#df-09b32d25-3117-41a1-994d-84d64f7269f6 button.colab-df-convert');\n",
              "      buttonEl.style.display =\n",
              "        google.colab.kernel.accessAllowed ? 'block' : 'none';\n",
              "\n",
              "      async function convertToInteractive(key) {\n",
              "        const element = document.querySelector('#df-09b32d25-3117-41a1-994d-84d64f7269f6');\n",
              "        const dataTable =\n",
              "          await google.colab.kernel.invokeFunction('convertToInteractive',\n",
              "                                                    [key], {});\n",
              "        if (!dataTable) return;\n",
              "\n",
              "        const docLinkHtml = 'Like what you see? Visit the ' +\n",
              "          '<a target=\"_blank\" href=https://colab.research.google.com/notebooks/data_table.ipynb>data table notebook</a>'\n",
              "          + ' to learn more about interactive tables.';\n",
              "        element.innerHTML = '';\n",
              "        dataTable['output_type'] = 'display_data';\n",
              "        await google.colab.output.renderOutput(dataTable, element);\n",
              "        const docLink = document.createElement('div');\n",
              "        docLink.innerHTML = docLinkHtml;\n",
              "        element.appendChild(docLink);\n",
              "      }\n",
              "    </script>\n",
              "  </div>\n",
              "\n",
              "\n",
              "<div id=\"df-9a59539a-dd82-44be-8776-44c7325d992b\">\n",
              "  <button class=\"colab-df-quickchart\" onclick=\"quickchart('df-9a59539a-dd82-44be-8776-44c7325d992b')\"\n",
              "            title=\"Suggest charts\"\n",
              "            style=\"display:none;\">\n",
              "\n",
              "<svg xmlns=\"http://www.w3.org/2000/svg\" height=\"24px\"viewBox=\"0 0 24 24\"\n",
              "     width=\"24px\">\n",
              "    <g>\n",
              "        <path d=\"M19 3H5c-1.1 0-2 .9-2 2v14c0 1.1.9 2 2 2h14c1.1 0 2-.9 2-2V5c0-1.1-.9-2-2-2zM9 17H7v-7h2v7zm4 0h-2V7h2v10zm4 0h-2v-4h2v4z\"/>\n",
              "    </g>\n",
              "</svg>\n",
              "  </button>\n",
              "\n",
              "<style>\n",
              "  .colab-df-quickchart {\n",
              "      --bg-color: #E8F0FE;\n",
              "      --fill-color: #1967D2;\n",
              "      --hover-bg-color: #E2EBFA;\n",
              "      --hover-fill-color: #174EA6;\n",
              "      --disabled-fill-color: #AAA;\n",
              "      --disabled-bg-color: #DDD;\n",
              "  }\n",
              "\n",
              "  [theme=dark] .colab-df-quickchart {\n",
              "      --bg-color: #3B4455;\n",
              "      --fill-color: #D2E3FC;\n",
              "      --hover-bg-color: #434B5C;\n",
              "      --hover-fill-color: #FFFFFF;\n",
              "      --disabled-bg-color: #3B4455;\n",
              "      --disabled-fill-color: #666;\n",
              "  }\n",
              "\n",
              "  .colab-df-quickchart {\n",
              "    background-color: var(--bg-color);\n",
              "    border: none;\n",
              "    border-radius: 50%;\n",
              "    cursor: pointer;\n",
              "    display: none;\n",
              "    fill: var(--fill-color);\n",
              "    height: 32px;\n",
              "    padding: 0;\n",
              "    width: 32px;\n",
              "  }\n",
              "\n",
              "  .colab-df-quickchart:hover {\n",
              "    background-color: var(--hover-bg-color);\n",
              "    box-shadow: 0 1px 2px rgba(60, 64, 67, 0.3), 0 1px 3px 1px rgba(60, 64, 67, 0.15);\n",
              "    fill: var(--button-hover-fill-color);\n",
              "  }\n",
              "\n",
              "  .colab-df-quickchart-complete:disabled,\n",
              "  .colab-df-quickchart-complete:disabled:hover {\n",
              "    background-color: var(--disabled-bg-color);\n",
              "    fill: var(--disabled-fill-color);\n",
              "    box-shadow: none;\n",
              "  }\n",
              "\n",
              "  .colab-df-spinner {\n",
              "    border: 2px solid var(--fill-color);\n",
              "    border-color: transparent;\n",
              "    border-bottom-color: var(--fill-color);\n",
              "    animation:\n",
              "      spin 1s steps(1) infinite;\n",
              "  }\n",
              "\n",
              "  @keyframes spin {\n",
              "    0% {\n",
              "      border-color: transparent;\n",
              "      border-bottom-color: var(--fill-color);\n",
              "      border-left-color: var(--fill-color);\n",
              "    }\n",
              "    20% {\n",
              "      border-color: transparent;\n",
              "      border-left-color: var(--fill-color);\n",
              "      border-top-color: var(--fill-color);\n",
              "    }\n",
              "    30% {\n",
              "      border-color: transparent;\n",
              "      border-left-color: var(--fill-color);\n",
              "      border-top-color: var(--fill-color);\n",
              "      border-right-color: var(--fill-color);\n",
              "    }\n",
              "    40% {\n",
              "      border-color: transparent;\n",
              "      border-right-color: var(--fill-color);\n",
              "      border-top-color: var(--fill-color);\n",
              "    }\n",
              "    60% {\n",
              "      border-color: transparent;\n",
              "      border-right-color: var(--fill-color);\n",
              "    }\n",
              "    80% {\n",
              "      border-color: transparent;\n",
              "      border-right-color: var(--fill-color);\n",
              "      border-bottom-color: var(--fill-color);\n",
              "    }\n",
              "    90% {\n",
              "      border-color: transparent;\n",
              "      border-bottom-color: var(--fill-color);\n",
              "    }\n",
              "  }\n",
              "</style>\n",
              "\n",
              "  <script>\n",
              "    async function quickchart(key) {\n",
              "      const quickchartButtonEl =\n",
              "        document.querySelector('#' + key + ' button');\n",
              "      quickchartButtonEl.disabled = true;  // To prevent multiple clicks.\n",
              "      quickchartButtonEl.classList.add('colab-df-spinner');\n",
              "      try {\n",
              "        const charts = await google.colab.kernel.invokeFunction(\n",
              "            'suggestCharts', [key], {});\n",
              "      } catch (error) {\n",
              "        console.error('Error during call to suggestCharts:', error);\n",
              "      }\n",
              "      quickchartButtonEl.classList.remove('colab-df-spinner');\n",
              "      quickchartButtonEl.classList.add('colab-df-quickchart-complete');\n",
              "    }\n",
              "    (() => {\n",
              "      let quickchartButtonEl =\n",
              "        document.querySelector('#df-9a59539a-dd82-44be-8776-44c7325d992b button');\n",
              "      quickchartButtonEl.style.display =\n",
              "        google.colab.kernel.accessAllowed ? 'block' : 'none';\n",
              "    })();\n",
              "  </script>\n",
              "</div>\n",
              "\n",
              "    </div>\n",
              "  </div>\n"
            ],
            "application/vnd.google.colaboratory.intrinsic+json": {
              "type": "dataframe",
              "summary": "{\n  \"name\": \"df\",\n  \"rows\": 8,\n  \"fields\": [\n    {\n      \"column\": \"Monthly_Inhand_Salary\",\n      \"properties\": {\n        \"dtype\": \"number\",\n        \"std\": 28721.02050010101,\n        \"min\": 303.645416666666,\n        \"max\": 84998.0,\n        \"num_unique_values\": 8,\n        \"samples\": [\n          4194.1708496005185,\n          3093.745,\n          84998.0\n        ],\n        \"semantic_type\": \"\",\n        \"description\": \"\"\n      }\n    },\n    {\n      \"column\": \"Num_Bank_Accounts\",\n      \"properties\": {\n        \"dtype\": \"number\",\n        \"std\": 35262.45571123334,\n        \"min\": -1.0,\n        \"max\": 100000.0,\n        \"num_unique_values\": 8,\n        \"samples\": [\n          17.09128,\n          6.0,\n          100000.0\n        ],\n        \"semantic_type\": \"\",\n        \"description\": \"\"\n      }\n    },\n    {\n      \"column\": \"Num_Credit_Card\",\n      \"properties\": {\n        \"dtype\": \"number\",\n        \"std\": 35274.94819246088,\n        \"min\": 0.0,\n        \"max\": 100000.0,\n        \"num_unique_values\": 8,\n        \"samples\": [\n          22.47443,\n          5.0,\n          100000.0\n        ],\n        \"semantic_type\": \"\",\n        \"description\": \"\"\n      }\n    },\n    {\n      \"column\": \"Interest_Rate\",\n      \"properties\": {\n        \"dtype\": \"number\",\n        \"std\": 35090.285071687635,\n        \"min\": 1.0,\n        \"max\": 100000.0,\n        \"num_unique_values\": 8,\n        \"samples\": [\n          72.46604,\n          13.0,\n          100000.0\n        ],\n        \"semantic_type\": \"\",\n        \"description\": \"\"\n      }\n    },\n    {\n      \"column\": \"Delay_from_due_date\",\n      \"properties\": {\n        \"dtype\": \"number\",\n        \"std\": 35347.57054259866,\n        \"min\": -5.0,\n        \"max\": 100000.0,\n        \"num_unique_values\": 8,\n        \"samples\": [\n          21.06878,\n          18.0,\n          100000.0\n        ],\n        \"semantic_type\": \"\",\n        \"description\": \"\"\n      }\n    },\n    {\n      \"column\": \"Num_Credit_Inquiries\",\n      \"properties\": {\n        \"dtype\": \"number\",\n        \"std\": 34529.0265942048,\n        \"min\": 0.0,\n        \"max\": 98035.0,\n        \"num_unique_values\": 8,\n        \"samples\": [\n          27.75425103279441,\n          6.0,\n          98035.0\n        ],\n        \"semantic_type\": \"\",\n        \"description\": \"\"\n      }\n    },\n    {\n      \"column\": \"Credit_Utilization_Ratio\",\n      \"properties\": {\n        \"dtype\": \"number\",\n        \"std\": 35345.024886297695,\n        \"min\": 5.116875070150907,\n        \"max\": 100000.0,\n        \"num_unique_values\": 8,\n        \"samples\": [\n          32.285172518943554,\n          32.3057836717109,\n          100000.0\n        ],\n        \"semantic_type\": \"\",\n        \"description\": \"\"\n      }\n    },\n    {\n      \"column\": \"Total_EMI_per_month\",\n      \"properties\": {\n        \"dtype\": \"number\",\n        \"std\": 41793.58784756127,\n        \"min\": 0.0,\n        \"max\": 100000.0,\n        \"num_unique_values\": 8,\n        \"samples\": [\n          1403.118216615993,\n          69.24947329972039,\n          100000.0\n        ],\n        \"semantic_type\": \"\",\n        \"description\": \"\"\n      }\n    }\n  ]\n}"
            }
          },
          "metadata": {},
          "execution_count": 6
        }
      ]
    },
    {
      "cell_type": "code",
      "source": [
        "df.isnull().sum()"
      ],
      "metadata": {
        "colab": {
          "base_uri": "https://localhost:8080/"
        },
        "id": "zYCcPYoeJti-",
        "outputId": "7845b2d7-e56c-4f72-c578-a7a7587bc1a2"
      },
      "execution_count": 7,
      "outputs": [
        {
          "output_type": "execute_result",
          "data": {
            "text/plain": [
              "ID                              0\n",
              "Customer_ID                     0\n",
              "Month                           0\n",
              "Name                         9985\n",
              "Age                             0\n",
              "SSN                             0\n",
              "Occupation                      0\n",
              "Annual_Income                   0\n",
              "Monthly_Inhand_Salary       15002\n",
              "Num_Bank_Accounts               0\n",
              "Num_Credit_Card                 0\n",
              "Interest_Rate                   0\n",
              "Num_of_Loan                     0\n",
              "Type_of_Loan                11408\n",
              "Delay_from_due_date             0\n",
              "Num_of_Delayed_Payment       7002\n",
              "Changed_Credit_Limit            0\n",
              "Num_Credit_Inquiries         1965\n",
              "Credit_Mix                      0\n",
              "Outstanding_Debt                0\n",
              "Credit_Utilization_Ratio        0\n",
              "Credit_History_Age           9030\n",
              "Payment_of_Min_Amount           0\n",
              "Total_EMI_per_month             0\n",
              "Amount_invested_monthly      4479\n",
              "Payment_Behaviour               0\n",
              "Monthly_Balance              1200\n",
              "Credit_Score                    0\n",
              "dtype: int64"
            ]
          },
          "metadata": {},
          "execution_count": 7
        }
      ]
    },
    {
      "cell_type": "markdown",
      "source": [
        "# preprocessing"
      ],
      "metadata": {
        "id": "ubkqMtqGKjYi"
      }
    },
    {
      "cell_type": "code",
      "source": [
        "#fill null values with mean\n",
        "import numpy as np\n",
        "#df['Amount_invested_monthly']=df['Amount_invested_monthly'].fillna.mean()\n",
        "#convert object to numeric\n",
        "df['Amount_invested_monthly']=pd.to_numeric(df['Amount_invested_monthly'],errors='coerce')\n",
        "df['Amount_invested_monthly']=df['Amount_invested_monthly'].fillna(df['Amount_invested_monthly']).mean()\n",
        "df['Monthly_Inhand_Salary']=df['Monthly_Inhand_Salary'].fillna(df['Monthly_Inhand_Salary']).mean()"
      ],
      "metadata": {
        "id": "Mjy7nzBVJfG1"
      },
      "execution_count": 30,
      "outputs": []
    },
    {
      "cell_type": "code",
      "source": [
        "#normalization with sklearn\n",
        "from sklearn.preprocessing import MinMaxScaler\n",
        "#convert 1d array to 2d array\n",
        "Amount_invested_monthly = df['Amount_invested_monthly'].values.reshape(-1,1)\n",
        "Monthly_Inhand_Salary = df['Monthly_Inhand_Salary'].values.reshape(-1,1)\n",
        "scaler=MinMaxScaler()\n",
        "x1 = scaler.fit_transform(Amount_invested_monthly)\n",
        "x2 = scaler.fit_transform(Monthly_Inhand_Salary)"
      ],
      "metadata": {
        "id": "RaACuQVpNVhe"
      },
      "execution_count": 31,
      "outputs": []
    },
    {
      "cell_type": "code",
      "source": [
        "from sklearn.preprocessing import StandardScaler\n",
        "scaler = StandardScaler()\n",
        "X1 = scaler.fit_transform(x1)\n",
        "X2 = scaler.fit_transform(x2)"
      ],
      "metadata": {
        "id": "wCgFhulVluCk"
      },
      "execution_count": 32,
      "outputs": []
    },
    {
      "cell_type": "code",
      "source": [
        "# Assuming x1 and x2 are lists or arrays of your feature values\n",
        "\n",
        "\n",
        "# Combine x1 and x2 into a single 2D array for training\n",
        "x_train = np.column_stack((X1, X2))"
      ],
      "metadata": {
        "id": "FJ1oWCFErMlH"
      },
      "execution_count": 20,
      "outputs": []
    },
    {
      "cell_type": "code",
      "source": [
        "from sklearn.model_selection import train_test_split\n",
        "from sklearn.preprocessing import OneHotEncoder\n",
        "y = df['Credit_Score'].values.reshape(-1,1)\n",
        "#print(y.value_counts())\n",
        "# Assuming X is your data with categorical features\n",
        "#encoder = OneHotEncoder(sparse=False)\n",
        "#y_encoded = encoder.fit_transform(y)\n",
        "# X_encoded now contains the one-hot encoded categorical data\n",
        "x_train, x_test, y_train, y_test =\\\n",
        "    train_test_split(x2, y, test_size=0.2, random_state=0)\n",
        "y_train.shape"
      ],
      "metadata": {
        "colab": {
          "base_uri": "https://localhost:8080/"
        },
        "id": "n-2F5dqolAGU",
        "outputId": "185b8513-c339-40cf-ab21-9e0cc63bc6f4"
      },
      "execution_count": 33,
      "outputs": [
        {
          "output_type": "execute_result",
          "data": {
            "text/plain": [
              "(80000, 1)"
            ]
          },
          "metadata": {},
          "execution_count": 33
        }
      ]
    },
    {
      "cell_type": "code",
      "source": [
        "#SMOTE\n",
        "from imblearn.over_sampling import SMOTE\n",
        "sm = SMOTE(random_state = 2)\n",
        "X_train_res, y_train_res = sm.fit_resample(x_train, y_train.ravel())"
      ],
      "metadata": {
        "id": "i83kNDqDlzgQ",
        "collapsed": true
      },
      "execution_count": 22,
      "outputs": []
    },
    {
      "cell_type": "code",
      "source": [
        "from sklearn.linear_model import LogisticRegression\n",
        "model = LogisticRegression(solver='newton-cg', C=0.05, multi_class='multinomial',\n",
        "                           random_state=0)\n",
        "model.fit(x_train, y_train)"
      ],
      "metadata": {
        "colab": {
          "base_uri": "https://localhost:8080/",
          "height": 147
        },
        "id": "RUXdwbfml6W0",
        "outputId": "db89b08a-fc88-4edf-90fa-e2fb5a6c3783"
      },
      "execution_count": 35,
      "outputs": [
        {
          "output_type": "stream",
          "name": "stderr",
          "text": [
            "/usr/local/lib/python3.10/dist-packages/sklearn/utils/validation.py:1143: DataConversionWarning: A column-vector y was passed when a 1d array was expected. Please change the shape of y to (n_samples, ), for example using ravel().\n",
            "  y = column_or_1d(y, warn=True)\n"
          ]
        },
        {
          "output_type": "execute_result",
          "data": {
            "text/plain": [
              "LogisticRegression(C=0.05, multi_class='multinomial', random_state=0,\n",
              "                   solver='newton-cg')"
            ],
            "text/html": [
              "<style>#sk-container-id-2 {color: black;background-color: white;}#sk-container-id-2 pre{padding: 0;}#sk-container-id-2 div.sk-toggleable {background-color: white;}#sk-container-id-2 label.sk-toggleable__label {cursor: pointer;display: block;width: 100%;margin-bottom: 0;padding: 0.3em;box-sizing: border-box;text-align: center;}#sk-container-id-2 label.sk-toggleable__label-arrow:before {content: \"▸\";float: left;margin-right: 0.25em;color: #696969;}#sk-container-id-2 label.sk-toggleable__label-arrow:hover:before {color: black;}#sk-container-id-2 div.sk-estimator:hover label.sk-toggleable__label-arrow:before {color: black;}#sk-container-id-2 div.sk-toggleable__content {max-height: 0;max-width: 0;overflow: hidden;text-align: left;background-color: #f0f8ff;}#sk-container-id-2 div.sk-toggleable__content pre {margin: 0.2em;color: black;border-radius: 0.25em;background-color: #f0f8ff;}#sk-container-id-2 input.sk-toggleable__control:checked~div.sk-toggleable__content {max-height: 200px;max-width: 100%;overflow: auto;}#sk-container-id-2 input.sk-toggleable__control:checked~label.sk-toggleable__label-arrow:before {content: \"▾\";}#sk-container-id-2 div.sk-estimator input.sk-toggleable__control:checked~label.sk-toggleable__label {background-color: #d4ebff;}#sk-container-id-2 div.sk-label input.sk-toggleable__control:checked~label.sk-toggleable__label {background-color: #d4ebff;}#sk-container-id-2 input.sk-hidden--visually {border: 0;clip: rect(1px 1px 1px 1px);clip: rect(1px, 1px, 1px, 1px);height: 1px;margin: -1px;overflow: hidden;padding: 0;position: absolute;width: 1px;}#sk-container-id-2 div.sk-estimator {font-family: monospace;background-color: #f0f8ff;border: 1px dotted black;border-radius: 0.25em;box-sizing: border-box;margin-bottom: 0.5em;}#sk-container-id-2 div.sk-estimator:hover {background-color: #d4ebff;}#sk-container-id-2 div.sk-parallel-item::after {content: \"\";width: 100%;border-bottom: 1px solid gray;flex-grow: 1;}#sk-container-id-2 div.sk-label:hover label.sk-toggleable__label {background-color: #d4ebff;}#sk-container-id-2 div.sk-serial::before {content: \"\";position: absolute;border-left: 1px solid gray;box-sizing: border-box;top: 0;bottom: 0;left: 50%;z-index: 0;}#sk-container-id-2 div.sk-serial {display: flex;flex-direction: column;align-items: center;background-color: white;padding-right: 0.2em;padding-left: 0.2em;position: relative;}#sk-container-id-2 div.sk-item {position: relative;z-index: 1;}#sk-container-id-2 div.sk-parallel {display: flex;align-items: stretch;justify-content: center;background-color: white;position: relative;}#sk-container-id-2 div.sk-item::before, #sk-container-id-2 div.sk-parallel-item::before {content: \"\";position: absolute;border-left: 1px solid gray;box-sizing: border-box;top: 0;bottom: 0;left: 50%;z-index: -1;}#sk-container-id-2 div.sk-parallel-item {display: flex;flex-direction: column;z-index: 1;position: relative;background-color: white;}#sk-container-id-2 div.sk-parallel-item:first-child::after {align-self: flex-end;width: 50%;}#sk-container-id-2 div.sk-parallel-item:last-child::after {align-self: flex-start;width: 50%;}#sk-container-id-2 div.sk-parallel-item:only-child::after {width: 0;}#sk-container-id-2 div.sk-dashed-wrapped {border: 1px dashed gray;margin: 0 0.4em 0.5em 0.4em;box-sizing: border-box;padding-bottom: 0.4em;background-color: white;}#sk-container-id-2 div.sk-label label {font-family: monospace;font-weight: bold;display: inline-block;line-height: 1.2em;}#sk-container-id-2 div.sk-label-container {text-align: center;}#sk-container-id-2 div.sk-container {/* jupyter's `normalize.less` sets `[hidden] { display: none; }` but bootstrap.min.css set `[hidden] { display: none !important; }` so we also need the `!important` here to be able to override the default hidden behavior on the sphinx rendered scikit-learn.org. See: https://github.com/scikit-learn/scikit-learn/issues/21755 */display: inline-block !important;position: relative;}#sk-container-id-2 div.sk-text-repr-fallback {display: none;}</style><div id=\"sk-container-id-2\" class=\"sk-top-container\"><div class=\"sk-text-repr-fallback\"><pre>LogisticRegression(C=0.05, multi_class=&#x27;multinomial&#x27;, random_state=0,\n",
              "                   solver=&#x27;newton-cg&#x27;)</pre><b>In a Jupyter environment, please rerun this cell to show the HTML representation or trust the notebook. <br />On GitHub, the HTML representation is unable to render, please try loading this page with nbviewer.org.</b></div><div class=\"sk-container\" hidden><div class=\"sk-item\"><div class=\"sk-estimator sk-toggleable\"><input class=\"sk-toggleable__control sk-hidden--visually\" id=\"sk-estimator-id-2\" type=\"checkbox\" checked><label for=\"sk-estimator-id-2\" class=\"sk-toggleable__label sk-toggleable__label-arrow\">LogisticRegression</label><div class=\"sk-toggleable__content\"><pre>LogisticRegression(C=0.05, multi_class=&#x27;multinomial&#x27;, random_state=0,\n",
              "                   solver=&#x27;newton-cg&#x27;)</pre></div></div></div></div></div>"
            ]
          },
          "metadata": {},
          "execution_count": 35
        }
      ]
    },
    {
      "cell_type": "code",
      "source": [
        "y_pred = model.predict(x_test)"
      ],
      "metadata": {
        "id": "GFq8LvpgntNm"
      },
      "execution_count": 36,
      "outputs": []
    },
    {
      "cell_type": "code",
      "source": [
        "model.score(x_train, y_train)\n",
        "model.score(x_test, y_test)"
      ],
      "metadata": {
        "colab": {
          "base_uri": "https://localhost:8080/"
        },
        "id": "3qlEA37hn1Lj",
        "outputId": "5778b4f8-ce94-4ee1-e250-c52143a7d7cc"
      },
      "execution_count": 38,
      "outputs": [
        {
          "output_type": "execute_result",
          "data": {
            "text/plain": [
              "0.52925"
            ]
          },
          "metadata": {},
          "execution_count": 38
        }
      ]
    },
    {
      "cell_type": "code",
      "source": [
        "from sklearn.metrics import confusion_matrix, classification_report\n",
        "confusion_matrix(y_test, y_pred)"
      ],
      "metadata": {
        "colab": {
          "base_uri": "https://localhost:8080/"
        },
        "id": "0Q-qCGXJoTBX",
        "outputId": "6fc87841-e968-4f28-922a-acf758499fbf"
      },
      "execution_count": 39,
      "outputs": [
        {
          "output_type": "execute_result",
          "data": {
            "text/plain": [
              "array([[    0,     0,  3589],\n",
              "       [    0,     0,  5826],\n",
              "       [    0,     0, 10585]])"
            ]
          },
          "metadata": {},
          "execution_count": 39
        }
      ]
    },
    {
      "cell_type": "code",
      "source": [
        "print(classification_report(y_test, y_pred))"
      ],
      "metadata": {
        "colab": {
          "base_uri": "https://localhost:8080/"
        },
        "id": "8v284wqto3mV",
        "outputId": "b3131915-b2b4-4fc6-d983-58d99eae8223"
      },
      "execution_count": 40,
      "outputs": [
        {
          "output_type": "stream",
          "name": "stderr",
          "text": [
            "/usr/local/lib/python3.10/dist-packages/sklearn/metrics/_classification.py:1344: UndefinedMetricWarning: Precision and F-score are ill-defined and being set to 0.0 in labels with no predicted samples. Use `zero_division` parameter to control this behavior.\n",
            "  _warn_prf(average, modifier, msg_start, len(result))\n"
          ]
        },
        {
          "output_type": "stream",
          "name": "stdout",
          "text": [
            "              precision    recall  f1-score   support\n",
            "\n",
            "        Good       0.00      0.00      0.00      3589\n",
            "        Poor       0.00      0.00      0.00      5826\n",
            "    Standard       0.53      1.00      0.69     10585\n",
            "\n",
            "    accuracy                           0.53     20000\n",
            "   macro avg       0.18      0.33      0.23     20000\n",
            "weighted avg       0.28      0.53      0.37     20000\n",
            "\n"
          ]
        },
        {
          "output_type": "stream",
          "name": "stderr",
          "text": [
            "/usr/local/lib/python3.10/dist-packages/sklearn/metrics/_classification.py:1344: UndefinedMetricWarning: Precision and F-score are ill-defined and being set to 0.0 in labels with no predicted samples. Use `zero_division` parameter to control this behavior.\n",
            "  _warn_prf(average, modifier, msg_start, len(result))\n",
            "/usr/local/lib/python3.10/dist-packages/sklearn/metrics/_classification.py:1344: UndefinedMetricWarning: Precision and F-score are ill-defined and being set to 0.0 in labels with no predicted samples. Use `zero_division` parameter to control this behavior.\n",
            "  _warn_prf(average, modifier, msg_start, len(result))\n"
          ]
        }
      ]
    }
  ]
}